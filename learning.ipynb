{
 "cells": [
  {
   "cell_type": "code",
   "execution_count": 1,
   "id": "67655deb",
   "metadata": {},
   "outputs": [],
   "source": [
    "import rouge\n",
    "import pandas as pd"
   ]
  },
  {
   "cell_type": "markdown",
   "id": "0160ec62",
   "metadata": {},
   "source": [
    "Following Heiko Hotz's \"Setting up a Text Summarization Project\" with some modification"
   ]
  },
  {
   "cell_type": "code",
   "execution_count": 2,
   "id": "bc233fe7",
   "metadata": {},
   "outputs": [
    {
     "data": {
      "text/html": [
       "<div>\n",
       "<style scoped>\n",
       "    .dataframe tbody tr th:only-of-type {\n",
       "        vertical-align: middle;\n",
       "    }\n",
       "\n",
       "    .dataframe tbody tr th {\n",
       "        vertical-align: top;\n",
       "    }\n",
       "\n",
       "    .dataframe thead th {\n",
       "        text-align: right;\n",
       "    }\n",
       "</style>\n",
       "<table border=\"1\" class=\"dataframe\">\n",
       "  <thead>\n",
       "    <tr style=\"text-align: right;\">\n",
       "      <th></th>\n",
       "      <th>Unnamed: 0</th>\n",
       "      <th>id</th>\n",
       "      <th>article</th>\n",
       "      <th>summary</th>\n",
       "    </tr>\n",
       "  </thead>\n",
       "  <tbody>\n",
       "    <tr>\n",
       "      <th>0</th>\n",
       "      <td>0</td>\n",
       "      <td>1</td>\n",
       "      <td>Former Labour leader Neil Kinnock has officia...</td>\n",
       "      <td>Former Labour leader Neil Kinnock has official...</td>\n",
       "    </tr>\n",
       "    <tr>\n",
       "      <th>1</th>\n",
       "      <td>1</td>\n",
       "      <td>2</td>\n",
       "      <td>Tony Blair's feud with Gordon Brown is damagi...</td>\n",
       "      <td>It claims Mr Blair said in November 2003 he wo...</td>\n",
       "    </tr>\n",
       "    <tr>\n",
       "      <th>2</th>\n",
       "      <td>2</td>\n",
       "      <td>3</td>\n",
       "      <td>The reported feud between Tony Blair and Gord...</td>\n",
       "      <td>Mr Bannatyne has previously given Labour £50,0...</td>\n",
       "    </tr>\n",
       "    <tr>\n",
       "      <th>3</th>\n",
       "      <td>3</td>\n",
       "      <td>4</td>\n",
       "      <td>Billions of pounds spent on conflict in Iraq ...</td>\n",
       "      <td>\"How is it that peace has not arrived?,\" the c...</td>\n",
       "    </tr>\n",
       "    <tr>\n",
       "      <th>4</th>\n",
       "      <td>4</td>\n",
       "      <td>5</td>\n",
       "      <td>The leader of the British National Party has ...</td>\n",
       "      <td>Mr Griffin is the twelfth man to be arrested f...</td>\n",
       "    </tr>\n",
       "  </tbody>\n",
       "</table>\n",
       "</div>"
      ],
      "text/plain": [
       "   Unnamed: 0  id                                            article  \\\n",
       "0           0   1   Former Labour leader Neil Kinnock has officia...   \n",
       "1           1   2   Tony Blair's feud with Gordon Brown is damagi...   \n",
       "2           2   3   The reported feud between Tony Blair and Gord...   \n",
       "3           3   4   Billions of pounds spent on conflict in Iraq ...   \n",
       "4           4   5   The leader of the British National Party has ...   \n",
       "\n",
       "                                             summary  \n",
       "0  Former Labour leader Neil Kinnock has official...  \n",
       "1  It claims Mr Blair said in November 2003 he wo...  \n",
       "2  Mr Bannatyne has previously given Labour £50,0...  \n",
       "3  \"How is it that peace has not arrived?,\" the c...  \n",
       "4  Mr Griffin is the twelfth man to be arrested f...  "
      ]
     },
     "execution_count": 2,
     "metadata": {},
     "output_type": "execute_result"
    }
   ],
   "source": [
    "politics = pd.read_csv('bbc_data/politics.tsv', sep='\\t')\n",
    "politics.head()"
   ]
  },
  {
   "cell_type": "code",
   "execution_count": 3,
   "id": "9685bc90",
   "metadata": {},
   "outputs": [
    {
     "data": {
      "text/plain": [
       "{'rouge1': 62.05310923910985,\n",
       " 'rouge2': 59.96041767461946,\n",
       " 'rougeL': 36.76785035941422,\n",
       " 'rougeLsum': 36.757116685063764}"
      ]
     },
     "execution_count": 3,
     "metadata": {},
     "output_type": "execute_result"
    }
   ],
   "source": [
    "rouge.score(politics['article'], politics['summary'])"
   ]
  },
  {
   "cell_type": "code",
   "execution_count": null,
   "id": "4589d4e6",
   "metadata": {},
   "outputs": [],
   "source": []
  }
 ],
 "metadata": {
  "kernelspec": {
   "display_name": "venv",
   "language": "python",
   "name": "venv"
  },
  "language_info": {
   "codemirror_mode": {
    "name": "ipython",
    "version": 3
   },
   "file_extension": ".py",
   "mimetype": "text/x-python",
   "name": "python",
   "nbconvert_exporter": "python",
   "pygments_lexer": "ipython3",
   "version": "3.10.6"
  }
 },
 "nbformat": 4,
 "nbformat_minor": 5
}
